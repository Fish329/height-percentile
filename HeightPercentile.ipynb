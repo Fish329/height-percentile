{
  "metadata": {
    "kernelspec": {
      "name": "python",
      "display_name": "Python (Pyodide)",
      "language": "python"
    },
    "language_info": {
      "codemirror_mode": {
        "name": "python",
        "version": 3
      },
      "file_extension": ".py",
      "mimetype": "text/x-python",
      "name": "python",
      "nbconvert_exporter": "python",
      "pygments_lexer": "ipython3",
      "version": "3.8"
    }
  },
  "nbformat_minor": 5,
  "nbformat": 4,
  "cells": [
    {
      "id": "a6d105a3-3427-4bdc-903d-8d2a52d232a7",
      "cell_type": "code",
      "source": "import numpy\nfrom scipy import stats\nheights=numpy.loadtxt(\"heights.csv\",delimiter=\",\",dtype=float) #I edited the sheet into 2 files for each list\nheights.sort() #sort the lists in ascending order\nuserHeight=float(input(\"enter your height in inches: \")) #ask the user for their height\npercentile=stats.percentileofscore(heights,userHeight)\nprint(\"your percentile: \",percentile,\"%\") #print percentile",
      "metadata": {
        "trusted": true
      },
      "outputs": [
        {
          "output_type": "stream",
          "name": "stdin",
          "text": "enter your height in inches:  64\n"
        },
        {
          "name": "stdout",
          "output_type": "stream",
          "text": "your percentile:  1.784\n"
        }
      ],
      "execution_count": 33
    },
    {
      "id": "613563d9-30eb-4514-a1af-ef58e6e706f5",
      "cell_type": "code",
      "source": "",
      "metadata": {
        "trusted": true
      },
      "outputs": [],
      "execution_count": null
    }
  ]
}